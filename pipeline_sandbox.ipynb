{
 "cells": [
  {
   "cell_type": "code",
   "execution_count": null,
   "metadata": {},
   "outputs": [],
   "source": [
    "import os\n",
    "import shutil\n",
    "from pipeline import _merge, _count, _find_unique_ids, _ingest_data # import the pipeline components\n",
    "VOLUME_MOUNT = \"volume_mount\"\n",
    "shutil.rmtree(VOLUME_MOUNT, ignore_errors=True)\n",
    "os.makedirs(VOLUME_MOUNT)"
   ]
  },
  {
   "cell_type": "code",
   "execution_count": null,
   "metadata": {},
   "outputs": [],
   "source": [
    "\"\"\"\n",
    "This cell runs a pipeline, i.e., several modular components in the INSAFEDARE format in succession.\n",
    "\"\"\"\n",
    "\n",
    "# ingest diagnoses\n",
    "print(\"ingest diagnoses\")\n",
    "_ingest_data(\n",
    "    \"mimiciv/2.0/hosp/diagnoses_icd.csv.gz\", f\"{VOLUME_MOUNT}/diagnoses.parquet\"\n",
    ")\n",
    "\n",
    "# select cohort\n",
    "print(\"select cohort\")\n",
    "_find_unique_ids(\n",
    "    f\"{VOLUME_MOUNT}/diagnoses.parquet\",\n",
    "    f\"{VOLUME_MOUNT}/cohort.parquet\",\n",
    "    match_on=[\"I50\", \"428\"],\n",
    "    target_col=\"icd_code\",\n",
    "    id_cols=[\"hadm_id\"],\n",
    "    match_on_first=3,\n",
    ")\n",
    "\n",
    "# ingest medications/prescriptions\n",
    "print(\"ingest medications\")\n",
    "_ingest_data(\n",
    "    \"mimiciv/2.0/hosp/prescriptions.csv.gz\",\n",
    "    f\"{VOLUME_MOUNT}/prescriptions.parquet\",\n",
    "    usecols=[\"hadm_id\", \"subject_id\"],\n",
    ")\n",
    "# count\n",
    "print(\"count #medications\")\n",
    "_count(\n",
    "    f\"{VOLUME_MOUNT}/prescriptions.parquet\",\n",
    "    f\"{VOLUME_MOUNT}/prescriptions.parquet\",\n",
    "    groupby=\"hadm_id\",\n",
    "    output_colname=\"n_medications\",\n",
    ")\n",
    "\n",
    "# merge #medications to cohort\n",
    "print(\"merging #medications to cohort\")\n",
    "_merge(\n",
    "    f\"{VOLUME_MOUNT}/cohort.parquet\",\n",
    "    f\"{VOLUME_MOUNT}/cohort.parquet\",\n",
    "    input_path_merge=f\"{VOLUME_MOUNT}/prescriptions.parquet\",\n",
    "    merge_on=[\"hadm_id\"],\n",
    "    how=\"left\",\n",
    ")\n"
   ]
  }
 ],
 "metadata": {
  "kernelspec": {
   "display_name": "Python 3",
   "language": "python",
   "name": "python3"
  },
  "language_info": {
   "codemirror_mode": {
    "name": "ipython",
    "version": 3
   },
   "file_extension": ".py",
   "mimetype": "text/x-python",
   "name": "python",
   "nbconvert_exporter": "python",
   "pygments_lexer": "ipython3",
   "version": "3.12.9"
  }
 },
 "nbformat": 4,
 "nbformat_minor": 2
}
