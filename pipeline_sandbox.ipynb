{
 "cells": [
  {
   "cell_type": "code",
   "execution_count": null,
   "metadata": {},
   "outputs": [],
   "source": [
    "import os\n",
    "import shutil\n",
    "import pandas as pd\n",
    "\n",
    "# import pipeline components\n",
    "from pipeline import (\n",
    "    _merge,\n",
    "    _count,\n",
    "    _find_unique_ids,\n",
    "    _ingest_data,\n",
    "    _retrieve_col_val,\n",
    "    _merge_on_date,\n",
    "    _engineer_feature,\n",
    "    _feature_selection,\n",
    "    _expand_feature,\n",
    "    _date_to_numeric,\n",
    "    _train_test_split,\n",
    "    _one_hot,\n",
    "    _to_numeric,\n",
    "    _drop_nan,\n",
    "    _ml_experiment,\n",
    "    _standardize,\n",
    ")\n",
    "\n",
    "# clear/create dummy volume mount\n",
    "VOLUME_MOUNT = \"volume_mount\"\n",
    "shutil.rmtree(VOLUME_MOUNT, ignore_errors=True)\n",
    "os.makedirs(VOLUME_MOUNT)"
   ]
  },
  {
   "cell_type": "code",
   "execution_count": null,
   "metadata": {},
   "outputs": [],
   "source": [
    "# ingest diagnoses\n",
    "_ingest_data(\n",
    "    \"mimiciv/2.0/hosp/diagnoses_icd.csv.gz\",\n",
    "    f\"{VOLUME_MOUNT}/diagnoses.parquet\",\n",
    "    usecols=[\"hadm_id\", \"icd_code\"],\n",
    ")"
   ]
  },
  {
   "cell_type": "code",
   "execution_count": null,
   "metadata": {},
   "outputs": [],
   "source": [
    "# select cohort\n",
    "_find_unique_ids(\n",
    "    f\"{VOLUME_MOUNT}/diagnoses.parquet\",\n",
    "    f\"{VOLUME_MOUNT}/cohort.parquet\",\n",
    "    match_on=[\"I50\", \"428\"],\n",
    "    target_col=\"icd_code\",\n",
    "    id_cols=[\"hadm_id\"],\n",
    "    match_on_first=3,\n",
    ")"
   ]
  },
  {
   "cell_type": "code",
   "execution_count": null,
   "metadata": {},
   "outputs": [],
   "source": [
    "# ingest medications/prescriptions\n",
    "_ingest_data(\n",
    "    \"mimiciv/2.0/hosp/prescriptions.csv.gz\",\n",
    "    f\"{VOLUME_MOUNT}/prescriptions.parquet\",\n",
    "    usecols=[\"hadm_id\", \"subject_id\"],\n",
    ")"
   ]
  },
  {
   "cell_type": "code",
   "execution_count": null,
   "metadata": {},
   "outputs": [],
   "source": [
    "# count medications\n",
    "_count(\n",
    "    f\"{VOLUME_MOUNT}/prescriptions.parquet\",\n",
    "    f\"{VOLUME_MOUNT}/prescriptions.parquet\",\n",
    "    groupby=\"hadm_id\",\n",
    "    output_colname=\"n_medications\",\n",
    ")"
   ]
  },
  {
   "cell_type": "code",
   "execution_count": null,
   "metadata": {},
   "outputs": [],
   "source": [
    "# merge #medications to cohort\n",
    "_merge(\n",
    "    f\"{VOLUME_MOUNT}/cohort.parquet\",\n",
    "    f\"{VOLUME_MOUNT}/cohort.parquet\",\n",
    "    input_path_merge=f\"{VOLUME_MOUNT}/prescriptions.parquet\",\n",
    "    merge_on=[\"hadm_id\"],\n",
    "    how=\"left\",\n",
    ")"
   ]
  },
  {
   "cell_type": "code",
   "execution_count": null,
   "metadata": {},
   "outputs": [],
   "source": [
    "# ingest admissions\n",
    "_ingest_data(\n",
    "    \"mimiciv/2.0/hosp/admissions.csv.gz\",\n",
    "    f\"{VOLUME_MOUNT}/admissions.parquet\",\n",
    "    usecols=[\n",
    "        \"subject_id\",\n",
    "        \"hadm_id\",\n",
    "        \"admittime\",\n",
    "        \"dischtime\",\n",
    "        \"admission_type\",\n",
    "        \"admission_location\",\n",
    "        \"hospital_expire_flag\",\n",
    "    ],\n",
    ")"
   ]
  },
  {
   "cell_type": "code",
   "execution_count": null,
   "metadata": {},
   "outputs": [],
   "source": [
    "# merge admissions info to cohort\n",
    "_merge(\n",
    "    f\"{VOLUME_MOUNT}/cohort.parquet\",\n",
    "    f\"{VOLUME_MOUNT}/cohort.parquet\",\n",
    "    f\"{VOLUME_MOUNT}/admissions.parquet\",\n",
    "    merge_on=\"hadm_id\",\n",
    "    how=\"left\",\n",
    ")"
   ]
  },
  {
   "cell_type": "code",
   "execution_count": null,
   "metadata": {},
   "outputs": [],
   "source": [
    "# ingest patient demographics\n",
    "_ingest_data(\n",
    "    \"mimiciv/2.0/hosp/patients.csv.gz\",\n",
    "    f\"{VOLUME_MOUNT}/patients.parquet\",\n",
    "    usecols=[\n",
    "        \"subject_id\",\n",
    "        \"anchor_age\",\n",
    "        \"gender\",\n",
    "    ],\n",
    ")"
   ]
  },
  {
   "cell_type": "code",
   "execution_count": null,
   "metadata": {},
   "outputs": [],
   "source": [
    "# merge patient demographics to cohort\n",
    "_merge(\n",
    "    f\"{VOLUME_MOUNT}/cohort.parquet\",\n",
    "    f\"{VOLUME_MOUNT}/cohort.parquet\",\n",
    "    f\"{VOLUME_MOUNT}/patients.parquet\",\n",
    "    merge_on=\"subject_id\",\n",
    "    how=\"left\",\n",
    ")"
   ]
  },
  {
   "cell_type": "code",
   "execution_count": null,
   "metadata": {},
   "outputs": [],
   "source": [
    "# ingesting diagnoses data\n",
    "_ingest_data(\n",
    "    \"mimiciv/2.0/hosp/diagnoses_icd.csv.gz\",\n",
    "    f\"{VOLUME_MOUNT}/diagnoses.parquet\",\n",
    "    usecols=[\n",
    "        \"hadm_id\",\n",
    "        \"seq_num\",\n",
    "    ],\n",
    ")"
   ]
  },
  {
   "cell_type": "code",
   "execution_count": null,
   "metadata": {},
   "outputs": [],
   "source": [
    "# count diagnoses\n",
    "_count(\n",
    "    f\"{VOLUME_MOUNT}/diagnoses.parquet\",\n",
    "    f\"{VOLUME_MOUNT}/diagnoses.parquet\",\n",
    "    groupby=\"hadm_id\",\n",
    "    output_colname=\"n_diagnoses\",\n",
    ")"
   ]
  },
  {
   "cell_type": "code",
   "execution_count": null,
   "metadata": {},
   "outputs": [],
   "source": [
    "# merge #diagnoses to cohort\n",
    "_merge(\n",
    "    f\"{VOLUME_MOUNT}/cohort.parquet\",\n",
    "    f\"{VOLUME_MOUNT}/cohort.parquet\",\n",
    "    f\"{VOLUME_MOUNT}/diagnoses.parquet\",\n",
    "    merge_on=\"hadm_id\",\n",
    "    how=\"left\",\n",
    ")"
   ]
  },
  {
   "cell_type": "code",
   "execution_count": null,
   "metadata": {},
   "outputs": [],
   "source": [
    "# ingest omr data\n",
    "_ingest_data(\n",
    "    \"mimiciv/2.0/hosp/omr.csv.gz\",\n",
    "    f\"{VOLUME_MOUNT}/omr.parquet\",\n",
    "    usecols=[\"subject_id\", \"chartdate\", \"result_name\", \"result_value\"],\n",
    ")"
   ]
  },
  {
   "cell_type": "code",
   "execution_count": null,
   "metadata": {},
   "outputs": [],
   "source": [
    "# retrieve BMI from omr data\n",
    "_retrieve_col_val(\n",
    "    f\"{VOLUME_MOUNT}/omr.parquet\",\n",
    "    f\"{VOLUME_MOUNT}/bmi.parquet\",\n",
    "    retrieve_string=\"BMI\",\n",
    "    match_type=\"startswith\",\n",
    "    name_col=\"result_name\",\n",
    "    val_col=\"result_value\",\n",
    ")\n",
    "\n",
    "# retrieve BP from omr data\n",
    "_retrieve_col_val(\n",
    "    f\"{VOLUME_MOUNT}/omr.parquet\",\n",
    "    f\"{VOLUME_MOUNT}/bp.parquet\",\n",
    "    retrieve_string=\"Blood Pressure\",\n",
    "    match_type=\"startswith\",\n",
    "    name_col=\"result_name\",\n",
    "    val_col=\"result_value\",\n",
    ")"
   ]
  },
  {
   "cell_type": "code",
   "execution_count": null,
   "metadata": {},
   "outputs": [],
   "source": [
    "# merge bmi to cohort\n",
    "_merge_on_date(\n",
    "    f\"{VOLUME_MOUNT}/cohort.parquet\",\n",
    "    f\"{VOLUME_MOUNT}/cohort.parquet\",\n",
    "    input_path_merge=f\"{VOLUME_MOUNT}/bmi.parquet\",\n",
    "    date_col=\"admittime\",\n",
    "    date_col_merge=\"chartdate\",\n",
    "    merge_on=\"subject_id\",\n",
    "    direction=\"nearest\",\n",
    ")"
   ]
  },
  {
   "cell_type": "code",
   "execution_count": null,
   "metadata": {},
   "outputs": [],
   "source": [
    "# merge bp to cohort\n",
    "_merge_on_date(\n",
    "    f\"{VOLUME_MOUNT}/cohort.parquet\",\n",
    "    f\"{VOLUME_MOUNT}/cohort.parquet\",\n",
    "    input_path_merge=f\"{VOLUME_MOUNT}/bp.parquet\",\n",
    "    date_col=\"admittime\",\n",
    "    date_col_merge=\"chartdate\",\n",
    "    merge_on=\"subject_id\",\n",
    "    direction=\"nearest\",\n",
    ")"
   ]
  },
  {
   "cell_type": "code",
   "execution_count": null,
   "metadata": {},
   "outputs": [],
   "source": [
    "# create length-of-stay feature (first need to turn dates into numeric format)\n",
    "_date_to_numeric(\n",
    "    f\"{VOLUME_MOUNT}/cohort.parquet\",\n",
    "    f\"{VOLUME_MOUNT}/cohort.parquet\",\n",
    "    columns=[\"dischtime\", \"admittime\"],\n",
    ")\n",
    "_engineer_feature(\n",
    "    f\"{VOLUME_MOUNT}/cohort.parquet\",\n",
    "    f\"{VOLUME_MOUNT}/cohort.parquet\",\n",
    "    feature1=\"dischtime\",\n",
    "    feature2=\"admittime\",\n",
    "    operation=\"subtract\",\n",
    ")"
   ]
  },
  {
   "cell_type": "code",
   "execution_count": null,
   "metadata": {},
   "outputs": [],
   "source": [
    "# split BP to systolic/diastolic\n",
    "_expand_feature(\n",
    "    f\"{VOLUME_MOUNT}/cohort.parquet\",\n",
    "    f\"{VOLUME_MOUNT}/cohort.parquet\",\n",
    "    feature=\"Blood Pressure\",\n",
    "    expand_on=\"/\",\n",
    ")"
   ]
  },
  {
   "cell_type": "code",
   "execution_count": null,
   "metadata": {},
   "outputs": [],
   "source": [
    "# select required features\n",
    "_feature_selection(\n",
    "    f\"{VOLUME_MOUNT}/cohort.parquet\",\n",
    "    f\"{VOLUME_MOUNT}/cohort.parquet\",\n",
    "    columns=[\n",
    "        \"anchor_age\",\n",
    "        \"gender\",\n",
    "        \"BMI\",\n",
    "        \"Blood Pressure_0\",\n",
    "        \"Blood Pressure_1\",\n",
    "        \"n_medications\",\n",
    "        \"n_diagnoses\",\n",
    "        \"admission_type\",\n",
    "        \"admission_location\",\n",
    "        \"dischtime_subtract_admittime\",\n",
    "        \"hospital_expire_flag\",\n",
    "    ],\n",
    ")"
   ]
  },
  {
   "cell_type": "code",
   "execution_count": null,
   "metadata": {},
   "outputs": [],
   "source": [
    "# numerically encode all features\n",
    "_to_numeric(\n",
    "    f\"{VOLUME_MOUNT}/cohort.parquet\",\n",
    "    f\"{VOLUME_MOUNT}/cohort.parquet\",\n",
    "    columns=[\n",
    "        \"anchor_age\",\n",
    "        \"BMI\",\n",
    "        \"Blood Pressure_0\",\n",
    "        \"Blood Pressure_1\",\n",
    "        \"n_medications\",\n",
    "        \"n_diagnoses\",\n",
    "        \"dischtime_subtract_admittime\",\n",
    "        \"hospital_expire_flag\",\n",
    "    ],\n",
    ")\n",
    "\n",
    "_one_hot(\n",
    "    f\"{VOLUME_MOUNT}/cohort.parquet\",\n",
    "    f\"{VOLUME_MOUNT}/cohort.parquet\",\n",
    "    columns=[\n",
    "        \"gender\",\n",
    "        \"admission_type\",\n",
    "        \"admission_location\",\n",
    "    ],\n",
    ")"
   ]
  },
  {
   "cell_type": "code",
   "execution_count": null,
   "metadata": {},
   "outputs": [],
   "source": [
    "# drop all NaN values\n",
    "_drop_nan(\n",
    "    f\"{VOLUME_MOUNT}/cohort.parquet\",\n",
    "    f\"{VOLUME_MOUNT}/cohort.parquet\",\n",
    ")"
   ]
  },
  {
   "cell_type": "code",
   "execution_count": null,
   "metadata": {},
   "outputs": [],
   "source": [
    "# standardize numerical columns\n",
    "_standardize(\n",
    "    f\"{VOLUME_MOUNT}/cohort.parquet\",\n",
    "    f\"{VOLUME_MOUNT}/cohort.parquet\",\n",
    "    columns=[\n",
    "        \"anchor_age\",\n",
    "        \"BMI\",\n",
    "        \"Blood Pressure_0\",\n",
    "        \"Blood Pressure_1\",\n",
    "        \"n_medications\",\n",
    "        \"n_diagnoses\",\n",
    "        \"dischtime_subtract_admittime\",\n",
    "    ],\n",
    ")"
   ]
  },
  {
   "cell_type": "code",
   "execution_count": null,
   "metadata": {},
   "outputs": [],
   "source": [
    "# load and print current cohort\n",
    "cohort = pd.read_parquet(f\"{VOLUME_MOUNT}/cohort.parquet\")\n",
    "cohort"
   ]
  },
  {
   "cell_type": "code",
   "execution_count": null,
   "metadata": {},
   "outputs": [],
   "source": [
    "# split cohort into train and test set\n",
    "_train_test_split(\n",
    "    f\"{VOLUME_MOUNT}/cohort.parquet\",\n",
    "    f\"{VOLUME_MOUNT}/train.parquet\",\n",
    "    output_path_test=f\"{VOLUME_MOUNT}/test.parquet\",\n",
    "    train_size=0.7,\n",
    "    stratify=\"hospital_expire_flag\",\n",
    "    seed=0,\n",
    ")"
   ]
  },
  {
   "cell_type": "code",
   "execution_count": null,
   "metadata": {},
   "outputs": [],
   "source": [
    "# perform ML experiment\n",
    "_ml_experiment(\n",
    "    f\"{VOLUME_MOUNT}/train.parquet\",\n",
    "    f\"{VOLUME_MOUNT}/ml_results.parquet\",\n",
    "    input_path_test=f\"{VOLUME_MOUNT}/test.parquet\",\n",
    "    target_col=\"hospital_expire_flag\",\n",
    "    model_name=\"LogisticRegression\",\n",
    "    model_hparams={},\n",
    ")"
   ]
  },
  {
   "cell_type": "code",
   "execution_count": null,
   "metadata": {},
   "outputs": [],
   "source": [
    "# load and print ML results\n",
    "score = pd.read_parquet(f\"{VOLUME_MOUNT}/ml_results.parquet\")\n",
    "score"
   ]
  }
 ],
 "metadata": {
  "kernelspec": {
   "display_name": "Python 3",
   "language": "python",
   "name": "python3"
  },
  "language_info": {
   "codemirror_mode": {
    "name": "ipython",
    "version": 3
   },
   "file_extension": ".py",
   "mimetype": "text/x-python",
   "name": "python",
   "nbconvert_exporter": "python",
   "pygments_lexer": "ipython3",
   "version": "3.12.9"
  }
 },
 "nbformat": 4,
 "nbformat_minor": 2
}
