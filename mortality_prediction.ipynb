{
 "cells": [
  {
   "cell_type": "code",
   "execution_count": 40,
   "metadata": {},
   "outputs": [],
   "source": [
    "import os\n",
    "import pandas as pd\n",
    "from sklearn.preprocessing import StandardScaler,OneHotEncoder\n",
    "from sklearn.metrics import roc_auc_score,f1_score\n",
    "from sklearn.model_selection import train_test_split\n",
    "from sklearn.linear_model import LogisticRegression\n",
    "\n",
    "from select_cohort import get_cohort\n",
    "DATA_ROOT_PATH = \"mimiciv\"\n",
    "VERSION = \"2.0\"\n",
    "ICD9_MAPPING_PATH = \"utils/ICD9_to_ICD10_mapping.txt\""
   ]
  },
  {
   "cell_type": "code",
   "execution_count": null,
   "metadata": {},
   "outputs": [],
   "source": [
    "icd_code: str = \"I50\", # select cohort on this ICD10 code. I50=Heart Failure.\n",
    "root: bool = True, # whether to select on only the root ICD code (first three symbols).\n",
    "demographic_data: bool = True, # whether to add demographic data from the patients table.\n",
    "admission_data: bool = True, # whether to add admissions data from the admissions table.\n",
    "diagnoses_data: bool = True, # whether to add diagnoses data from the diagnoses_icd table.\n",
    "omr_data: bool = True, # whether to add outpatient measurement data from the omr table.\n",
    "medication_data: bool = True, # whether to add medication data from the prescriptions table.\n",
    "\n",
    "# select a cohort of hospital visits.\n",
    "visit_df = get_cohort(icd_code,root,demographic_data,admission_data,diagnoses_data,omr_data,medication_data,os.path.join(DATA_ROOT_PATH,VERSION),ICD9_MAPPING_PATH)\n",
    "visit_df"
   ]
  },
  {
   "cell_type": "code",
   "execution_count": null,
   "metadata": {},
   "outputs": [],
   "source": [
    "# select relevant features\n",
    "include_features = [\n",
    "    \"age\",\n",
    "    \"bmi\",\n",
    "    \"admission_type\",\n",
    "    \"admission_location\",\n",
    "    \"insurance\",\n",
    "    \"race\",\n",
    "    \"marital_status\",\n",
    "    \"gender\",\n",
    "    \"n_diagnoses\",\n",
    "    \"n_medications\",\n",
    "    \"los_hours\",\n",
    "    \"bp_systolic\",\n",
    "    \"bp_diastolic\",\n",
    "    \"hospital_expire_flag\"\n",
    "]\n",
    "visit_df = visit_df[include_features]\n",
    "\n",
    "# drop rows with missing values\n",
    "visit_df = visit_df.dropna().reset_index(drop=True)\n",
    "\n",
    "# include target feature (within-visit mortality prediction)\n",
    "y = (visit_df[\"hospital_expire_flag\"] == 1).astype(int)\n",
    "visit_df = visit_df.drop(\"hospital_expire_flag\",axis=1)\n",
    "\n",
    "visit_df"
   ]
  },
  {
   "cell_type": "code",
   "execution_count": null,
   "metadata": {},
   "outputs": [],
   "source": [
    "# one-hot encode categorical columns\n",
    "X = []\n",
    "numerical_cols = []\n",
    "for col in visit_df.columns:\n",
    "    try:\n",
    "        X.append(visit_df[[col]].astype(float))\n",
    "        numerical_cols.append(col)\n",
    "    except:\n",
    "        ohe = OneHotEncoder(sparse_output=False)\n",
    "        data = ohe.fit_transform(visit_df[[col]])\n",
    "        data = pd.DataFrame(data,columns=ohe.get_feature_names_out())\n",
    "        X.append(data)\n",
    "X = pd.concat(X,axis=1)\n",
    "\n",
    "X"
   ]
  },
  {
   "cell_type": "code",
   "execution_count": null,
   "metadata": {},
   "outputs": [],
   "source": [
    "# perform ML experiment (ROCAUC on imbalanced dataset)\n",
    "seed = 0 \n",
    "x_tr,x_te,y_tr,y_te = train_test_split(X,y,stratify=y,train_size=0.7,random_state=seed,shuffle=True)\n",
    "\n",
    "scaler = StandardScaler()\n",
    "x_tr[numerical_cols] = scaler.fit_transform(x_tr[numerical_cols])\n",
    "x_te[numerical_cols] = scaler.transform(x_te[numerical_cols])\n",
    "\n",
    "model = LogisticRegression(random_state=seed)\n",
    "model.fit(x_tr,y_tr)\n",
    "\n",
    "pred_probs = model.predict_proba(x_te)\n",
    "auc = roc_auc_score(y_te,pred_probs[:,1])\n",
    "float(auc)"
   ]
  },
  {
   "cell_type": "code",
   "execution_count": null,
   "metadata": {},
   "outputs": [],
   "source": [
    "# perform ML experiment (F1 on rebalanced dataset)\n",
    "y.name = \"target\"\n",
    "df = pd.concat([X,y],axis=1)\n",
    "case_df = df[df.target == 1]\n",
    "control_df = df[df.target == 0]\n",
    "control_df = control_df.sample(len(case_df),random_state=seed)\n",
    "df = pd.concat([case_df,control_df])\n",
    "y = df.target\n",
    "X = df.drop(\"target\",axis=1)\n",
    "\n",
    "x_tr, x_te, y_tr, y_te = train_test_split(X, y, stratify=y, train_size=0.7, random_state=seed)\n",
    "scaler = StandardScaler()\n",
    "x_tr[numerical_cols] = scaler.fit_transform(x_tr[numerical_cols])\n",
    "x_te[numerical_cols] = scaler.transform(x_te[numerical_cols])\n",
    "\n",
    "model = LogisticRegression(random_state=seed).fit(x_tr, y_tr)\n",
    "preds = model.predict(x_te)\n",
    "f1 = f1_score(y_te, preds)\n",
    "f1\n"
   ]
  }
 ],
 "metadata": {
  "kernelspec": {
   "display_name": "Python 3",
   "language": "python",
   "name": "python3"
  },
  "language_info": {
   "codemirror_mode": {
    "name": "ipython",
    "version": 3
   },
   "file_extension": ".py",
   "mimetype": "text/x-python",
   "name": "python",
   "nbconvert_exporter": "python",
   "pygments_lexer": "ipython3",
   "version": "3.12.9"
  }
 },
 "nbformat": 4,
 "nbformat_minor": 2
}
